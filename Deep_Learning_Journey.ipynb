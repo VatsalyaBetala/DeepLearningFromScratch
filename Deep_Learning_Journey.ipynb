{
  "nbformat": 4,
  "nbformat_minor": 0,
  "metadata": {
    "colab": {
      "provenance": []
    },
    "kernelspec": {
      "name": "python3",
      "display_name": "Python 3"
    },
    "language_info": {
      "name": "python"
    }
  },
  "cells": [
    {
      "cell_type": "markdown",
      "source": [
        "# Implementing Perceptron from Scratch"
      ],
      "metadata": {
        "id": "mRmsvDjp85oQ"
      }
    },
    {
      "cell_type": "code",
      "execution_count": null,
      "metadata": {
        "id": "_U6pbvxANWT_"
      },
      "outputs": [],
      "source": [
        "import numpy as np\n",
        "import pandas as pd\n",
        "import seaborn as sns\n",
        "import matplotlib.pyplot as plt"
      ]
    },
    {
      "cell_type": "code",
      "source": [
        "df = pd.read_csv('placement.csv')"
      ],
      "metadata": {
        "id": "1wYcoVM5N2Gl"
      },
      "execution_count": null,
      "outputs": []
    },
    {
      "cell_type": "code",
      "source": [
        "print(df.shape)\n",
        "df.head()"
      ],
      "metadata": {
        "colab": {
          "base_uri": "https://localhost:8080/",
          "height": 224
        },
        "id": "TTd6A82ZODgb",
        "outputId": "d8e9650b-9570-496a-8dd3-6acefb33cfbe"
      },
      "execution_count": null,
      "outputs": [
        {
          "output_type": "stream",
          "name": "stdout",
          "text": [
            "(100, 3)\n"
          ]
        },
        {
          "output_type": "execute_result",
          "data": {
            "text/plain": [
              "   cgpa  resume_score  placed\n",
              "0  8.14          6.52       1\n",
              "1  6.17          5.17       0\n",
              "2  8.27          8.86       1\n",
              "3  6.88          7.27       1\n",
              "4  7.52          7.30       1"
            ],
            "text/html": [
              "\n",
              "  <div id=\"df-b44d372e-04b7-43e7-b335-5d39f738e638\" class=\"colab-df-container\">\n",
              "    <div>\n",
              "<style scoped>\n",
              "    .dataframe tbody tr th:only-of-type {\n",
              "        vertical-align: middle;\n",
              "    }\n",
              "\n",
              "    .dataframe tbody tr th {\n",
              "        vertical-align: top;\n",
              "    }\n",
              "\n",
              "    .dataframe thead th {\n",
              "        text-align: right;\n",
              "    }\n",
              "</style>\n",
              "<table border=\"1\" class=\"dataframe\">\n",
              "  <thead>\n",
              "    <tr style=\"text-align: right;\">\n",
              "      <th></th>\n",
              "      <th>cgpa</th>\n",
              "      <th>resume_score</th>\n",
              "      <th>placed</th>\n",
              "    </tr>\n",
              "  </thead>\n",
              "  <tbody>\n",
              "    <tr>\n",
              "      <th>0</th>\n",
              "      <td>8.14</td>\n",
              "      <td>6.52</td>\n",
              "      <td>1</td>\n",
              "    </tr>\n",
              "    <tr>\n",
              "      <th>1</th>\n",
              "      <td>6.17</td>\n",
              "      <td>5.17</td>\n",
              "      <td>0</td>\n",
              "    </tr>\n",
              "    <tr>\n",
              "      <th>2</th>\n",
              "      <td>8.27</td>\n",
              "      <td>8.86</td>\n",
              "      <td>1</td>\n",
              "    </tr>\n",
              "    <tr>\n",
              "      <th>3</th>\n",
              "      <td>6.88</td>\n",
              "      <td>7.27</td>\n",
              "      <td>1</td>\n",
              "    </tr>\n",
              "    <tr>\n",
              "      <th>4</th>\n",
              "      <td>7.52</td>\n",
              "      <td>7.30</td>\n",
              "      <td>1</td>\n",
              "    </tr>\n",
              "  </tbody>\n",
              "</table>\n",
              "</div>\n",
              "    <div class=\"colab-df-buttons\">\n",
              "\n",
              "  <div class=\"colab-df-container\">\n",
              "    <button class=\"colab-df-convert\" onclick=\"convertToInteractive('df-b44d372e-04b7-43e7-b335-5d39f738e638')\"\n",
              "            title=\"Convert this dataframe to an interactive table.\"\n",
              "            style=\"display:none;\">\n",
              "\n",
              "  <svg xmlns=\"http://www.w3.org/2000/svg\" height=\"24px\" viewBox=\"0 -960 960 960\">\n",
              "    <path d=\"M120-120v-720h720v720H120Zm60-500h600v-160H180v160Zm220 220h160v-160H400v160Zm0 220h160v-160H400v160ZM180-400h160v-160H180v160Zm440 0h160v-160H620v160ZM180-180h160v-160H180v160Zm440 0h160v-160H620v160Z\"/>\n",
              "  </svg>\n",
              "    </button>\n",
              "\n",
              "  <style>\n",
              "    .colab-df-container {\n",
              "      display:flex;\n",
              "      gap: 12px;\n",
              "    }\n",
              "\n",
              "    .colab-df-convert {\n",
              "      background-color: #E8F0FE;\n",
              "      border: none;\n",
              "      border-radius: 50%;\n",
              "      cursor: pointer;\n",
              "      display: none;\n",
              "      fill: #1967D2;\n",
              "      height: 32px;\n",
              "      padding: 0 0 0 0;\n",
              "      width: 32px;\n",
              "    }\n",
              "\n",
              "    .colab-df-convert:hover {\n",
              "      background-color: #E2EBFA;\n",
              "      box-shadow: 0px 1px 2px rgba(60, 64, 67, 0.3), 0px 1px 3px 1px rgba(60, 64, 67, 0.15);\n",
              "      fill: #174EA6;\n",
              "    }\n",
              "\n",
              "    .colab-df-buttons div {\n",
              "      margin-bottom: 4px;\n",
              "    }\n",
              "\n",
              "    [theme=dark] .colab-df-convert {\n",
              "      background-color: #3B4455;\n",
              "      fill: #D2E3FC;\n",
              "    }\n",
              "\n",
              "    [theme=dark] .colab-df-convert:hover {\n",
              "      background-color: #434B5C;\n",
              "      box-shadow: 0px 1px 3px 1px rgba(0, 0, 0, 0.15);\n",
              "      filter: drop-shadow(0px 1px 2px rgba(0, 0, 0, 0.3));\n",
              "      fill: #FFFFFF;\n",
              "    }\n",
              "  </style>\n",
              "\n",
              "    <script>\n",
              "      const buttonEl =\n",
              "        document.querySelector('#df-b44d372e-04b7-43e7-b335-5d39f738e638 button.colab-df-convert');\n",
              "      buttonEl.style.display =\n",
              "        google.colab.kernel.accessAllowed ? 'block' : 'none';\n",
              "\n",
              "      async function convertToInteractive(key) {\n",
              "        const element = document.querySelector('#df-b44d372e-04b7-43e7-b335-5d39f738e638');\n",
              "        const dataTable =\n",
              "          await google.colab.kernel.invokeFunction('convertToInteractive',\n",
              "                                                    [key], {});\n",
              "        if (!dataTable) return;\n",
              "\n",
              "        const docLinkHtml = 'Like what you see? Visit the ' +\n",
              "          '<a target=\"_blank\" href=https://colab.research.google.com/notebooks/data_table.ipynb>data table notebook</a>'\n",
              "          + ' to learn more about interactive tables.';\n",
              "        element.innerHTML = '';\n",
              "        dataTable['output_type'] = 'display_data';\n",
              "        await google.colab.output.renderOutput(dataTable, element);\n",
              "        const docLink = document.createElement('div');\n",
              "        docLink.innerHTML = docLinkHtml;\n",
              "        element.appendChild(docLink);\n",
              "      }\n",
              "    </script>\n",
              "  </div>\n",
              "\n",
              "\n",
              "<div id=\"df-bbbfa5c8-1a4b-4008-b5ef-c7394c298bd9\">\n",
              "  <button class=\"colab-df-quickchart\" onclick=\"quickchart('df-bbbfa5c8-1a4b-4008-b5ef-c7394c298bd9')\"\n",
              "            title=\"Suggest charts\"\n",
              "            style=\"display:none;\">\n",
              "\n",
              "<svg xmlns=\"http://www.w3.org/2000/svg\" height=\"24px\"viewBox=\"0 0 24 24\"\n",
              "     width=\"24px\">\n",
              "    <g>\n",
              "        <path d=\"M19 3H5c-1.1 0-2 .9-2 2v14c0 1.1.9 2 2 2h14c1.1 0 2-.9 2-2V5c0-1.1-.9-2-2-2zM9 17H7v-7h2v7zm4 0h-2V7h2v10zm4 0h-2v-4h2v4z\"/>\n",
              "    </g>\n",
              "</svg>\n",
              "  </button>\n",
              "\n",
              "<style>\n",
              "  .colab-df-quickchart {\n",
              "      --bg-color: #E8F0FE;\n",
              "      --fill-color: #1967D2;\n",
              "      --hover-bg-color: #E2EBFA;\n",
              "      --hover-fill-color: #174EA6;\n",
              "      --disabled-fill-color: #AAA;\n",
              "      --disabled-bg-color: #DDD;\n",
              "  }\n",
              "\n",
              "  [theme=dark] .colab-df-quickchart {\n",
              "      --bg-color: #3B4455;\n",
              "      --fill-color: #D2E3FC;\n",
              "      --hover-bg-color: #434B5C;\n",
              "      --hover-fill-color: #FFFFFF;\n",
              "      --disabled-bg-color: #3B4455;\n",
              "      --disabled-fill-color: #666;\n",
              "  }\n",
              "\n",
              "  .colab-df-quickchart {\n",
              "    background-color: var(--bg-color);\n",
              "    border: none;\n",
              "    border-radius: 50%;\n",
              "    cursor: pointer;\n",
              "    display: none;\n",
              "    fill: var(--fill-color);\n",
              "    height: 32px;\n",
              "    padding: 0;\n",
              "    width: 32px;\n",
              "  }\n",
              "\n",
              "  .colab-df-quickchart:hover {\n",
              "    background-color: var(--hover-bg-color);\n",
              "    box-shadow: 0 1px 2px rgba(60, 64, 67, 0.3), 0 1px 3px 1px rgba(60, 64, 67, 0.15);\n",
              "    fill: var(--button-hover-fill-color);\n",
              "  }\n",
              "\n",
              "  .colab-df-quickchart-complete:disabled,\n",
              "  .colab-df-quickchart-complete:disabled:hover {\n",
              "    background-color: var(--disabled-bg-color);\n",
              "    fill: var(--disabled-fill-color);\n",
              "    box-shadow: none;\n",
              "  }\n",
              "\n",
              "  .colab-df-spinner {\n",
              "    border: 2px solid var(--fill-color);\n",
              "    border-color: transparent;\n",
              "    border-bottom-color: var(--fill-color);\n",
              "    animation:\n",
              "      spin 1s steps(1) infinite;\n",
              "  }\n",
              "\n",
              "  @keyframes spin {\n",
              "    0% {\n",
              "      border-color: transparent;\n",
              "      border-bottom-color: var(--fill-color);\n",
              "      border-left-color: var(--fill-color);\n",
              "    }\n",
              "    20% {\n",
              "      border-color: transparent;\n",
              "      border-left-color: var(--fill-color);\n",
              "      border-top-color: var(--fill-color);\n",
              "    }\n",
              "    30% {\n",
              "      border-color: transparent;\n",
              "      border-left-color: var(--fill-color);\n",
              "      border-top-color: var(--fill-color);\n",
              "      border-right-color: var(--fill-color);\n",
              "    }\n",
              "    40% {\n",
              "      border-color: transparent;\n",
              "      border-right-color: var(--fill-color);\n",
              "      border-top-color: var(--fill-color);\n",
              "    }\n",
              "    60% {\n",
              "      border-color: transparent;\n",
              "      border-right-color: var(--fill-color);\n",
              "    }\n",
              "    80% {\n",
              "      border-color: transparent;\n",
              "      border-right-color: var(--fill-color);\n",
              "      border-bottom-color: var(--fill-color);\n",
              "    }\n",
              "    90% {\n",
              "      border-color: transparent;\n",
              "      border-bottom-color: var(--fill-color);\n",
              "    }\n",
              "  }\n",
              "</style>\n",
              "\n",
              "  <script>\n",
              "    async function quickchart(key) {\n",
              "      const quickchartButtonEl =\n",
              "        document.querySelector('#' + key + ' button');\n",
              "      quickchartButtonEl.disabled = true;  // To prevent multiple clicks.\n",
              "      quickchartButtonEl.classList.add('colab-df-spinner');\n",
              "      try {\n",
              "        const charts = await google.colab.kernel.invokeFunction(\n",
              "            'suggestCharts', [key], {});\n",
              "      } catch (error) {\n",
              "        console.error('Error during call to suggestCharts:', error);\n",
              "      }\n",
              "      quickchartButtonEl.classList.remove('colab-df-spinner');\n",
              "      quickchartButtonEl.classList.add('colab-df-quickchart-complete');\n",
              "    }\n",
              "    (() => {\n",
              "      let quickchartButtonEl =\n",
              "        document.querySelector('#df-bbbfa5c8-1a4b-4008-b5ef-c7394c298bd9 button');\n",
              "      quickchartButtonEl.style.display =\n",
              "        google.colab.kernel.accessAllowed ? 'block' : 'none';\n",
              "    })();\n",
              "  </script>\n",
              "</div>\n",
              "    </div>\n",
              "  </div>\n"
            ],
            "application/vnd.google.colaboratory.intrinsic+json": {
              "type": "dataframe",
              "variable_name": "df",
              "summary": "{\n  \"name\": \"df\",\n  \"rows\": 100,\n  \"fields\": [\n    {\n      \"column\": \"cgpa\",\n      \"properties\": {\n        \"dtype\": \"number\",\n        \"std\": 1.1192002736442002,\n        \"min\": 5.27,\n        \"max\": 9.4,\n        \"num_unique_values\": 89,\n        \"samples\": [\n          5.47,\n          6.13,\n          7.36\n        ],\n        \"semantic_type\": \"\",\n        \"description\": \"\"\n      }\n    },\n    {\n      \"column\": \"resume_score\",\n      \"properties\": {\n        \"dtype\": \"number\",\n        \"std\": 0.9796076054247745,\n        \"min\": 4.95,\n        \"max\": 9.06,\n        \"num_unique_values\": 93,\n        \"samples\": [\n          7.95,\n          7.13,\n          7.37\n        ],\n        \"semantic_type\": \"\",\n        \"description\": \"\"\n      }\n    },\n    {\n      \"column\": \"placed\",\n      \"properties\": {\n        \"dtype\": \"number\",\n        \"std\": 0,\n        \"min\": 0,\n        \"max\": 1,\n        \"num_unique_values\": 2,\n        \"samples\": [\n          0,\n          1\n        ],\n        \"semantic_type\": \"\",\n        \"description\": \"\"\n      }\n    }\n  ]\n}"
            }
          },
          "metadata": {},
          "execution_count": 6
        }
      ]
    },
    {
      "cell_type": "code",
      "source": [
        "plt.figure(figsize=(10, 6))\n",
        "scatter = plt.scatter(x=df.cgpa, y=df['resume_score'], c=df.placed, cmap='viridis', label=df.placed)\n",
        "\n",
        "legend1 = plt.legend(*scatter.legend_elements(), title=\"Placed\")\n",
        "plt.gca().add_artist(legend1)\n",
        "\n",
        "plt.xlabel('CGPA')\n",
        "plt.ylabel('Resume Score')\n",
        "plt.title('Scatter Plot of CGPA vs Resume Score')\n",
        "plt.show()\n"
      ],
      "metadata": {
        "colab": {
          "base_uri": "https://localhost:8080/",
          "height": 564
        },
        "id": "ag45Ua6XOJvF",
        "outputId": "1345fc43-5895-405e-da6c-0a81b7a875b7"
      },
      "execution_count": null,
      "outputs": [
        {
          "output_type": "display_data",
          "data": {
            "text/plain": [
              "<Figure size 1000x600 with 1 Axes>"
            ],
            "image/png": "[encoded data removed]"
          },
          "metadata": {}
        }
      ]
    },
    {
      "cell_type": "code",
      "source": [
        "X = df.iloc[:, 0:2] # Input Columns\n",
        "y = df.iloc[:,-1]\n",
        "\n",
        "from sklearn.linear_model import Perceptron\n",
        "p = Perceptron().fit(X,y)\n"
      ],
      "metadata": {
        "id": "yBjm7Y3yPQH7"
      },
      "execution_count": null,
      "outputs": []
    },
    {
      "cell_type": "code",
      "source": [
        "p.coef_"
      ],
      "metadata": {
        "colab": {
          "base_uri": "https://localhost:8080/"
        },
        "id": "_sl5OVa-PhXi",
        "outputId": "8dad2f3b-50ba-4df9-85b0-a2edc616d31a"
      },
      "execution_count": null,
      "outputs": [
        {
          "output_type": "execute_result",
          "data": {
            "text/plain": [
              "array([[ 40.26, -36.  ]])"
            ]
          },
          "metadata": {},
          "execution_count": 15
        }
      ]
    },
    {
      "cell_type": "code",
      "source": [
        "p.intercept_"
      ],
      "metadata": {
        "colab": {
          "base_uri": "https://localhost:8080/"
        },
        "id": "sljyHFeHQRTe",
        "outputId": "d902dfc9-0e33-41b0-9a46-0099a90bfdbf"
      },
      "execution_count": null,
      "outputs": [
        {
          "output_type": "execute_result",
          "data": {
            "text/plain": [
              "array([-25.])"
            ]
          },
          "metadata": {},
          "execution_count": 16
        }
      ]
    },
    {
      "cell_type": "code",
      "source": [
        "from sklearn.datasets import make_classification\n",
        "import numpy as np\n",
        "X, y = make_classification(n_samples=100, n_features=2, n_informative=1,n_redundant=0,\n",
        "                           n_classes=2, n_clusters_per_class=1, random_state=41,hypercube=False,class_sep=10)"
      ],
      "metadata": {
        "id": "zKJ3NbOnUbSc"
      },
      "execution_count": null,
      "outputs": []
    },
    {
      "cell_type": "code",
      "source": [
        "import matplotlib.pyplot as plt\n",
        "plt.figure(figsize = (10,6))\n",
        "plt.scatter(X[:, 0], X[:, 1], c=y, cmap = 'winter', s = 100)"
      ],
      "metadata": {
        "colab": {
          "base_uri": "https://localhost:8080/",
          "height": 540
        },
        "id": "l7OaFbjHUdb6",
        "outputId": "ad1786f5-dcfc-4a9a-8f1d-cb2c85a0d4f1"
      },
      "execution_count": null,
      "outputs": [
        {
          "output_type": "execute_result",
          "data": {
            "text/plain": [
              "<matplotlib.collections.PathCollection at 0x7b2d30c46410>"
            ]
          },
          "metadata": {},
          "execution_count": 38
        },
        {
          "output_type": "display_data",
          "data": {
            "text/plain": [
              "<Figure size 1000x600 with 1 Axes>"
            ],
            "image/png": "[encoded data removed]"
          },
          "metadata": {}
        }
      ]
    },
    {
      "cell_type": "code",
      "source": [
        "def perceptron(X,y):\n",
        "  X = np.insert(X, 0, 1, axis = 1)\n",
        "  weights = np.ones(X.shape[1])\n",
        "  lr = 0.1\n",
        "  epoch = 1000\n",
        "\n",
        "  for i in range(epoch) :\n",
        "    student = np.random.randint(0, X.shape[0])\n",
        "    y_hat = step(np.dot(X[student], weights))\n",
        "    weights = weights + lr * (y[student] - y_hat) * X[student]\n",
        "\n",
        "  return weights[0], weights[1:]\n",
        "\n",
        "def step(z):\n",
        "  return 1 if z>0 else 0"
      ],
      "metadata": {
        "id": "R7CRPFEeUjWN"
      },
      "execution_count": null,
      "outputs": []
    },
    {
      "cell_type": "code",
      "source": [
        "perceptron(X,y)"
      ],
      "metadata": {
        "colab": {
          "base_uri": "https://localhost:8080/"
        },
        "id": "_cEDevufWCDa",
        "outputId": "4eaea2c1-f2c7-4d56-db32-12acd3145be2"
      },
      "execution_count": null,
      "outputs": [
        {
          "output_type": "execute_result",
          "data": {
            "text/plain": [
              "(0.9, array([1.43317731, 0.07502128]))"
            ]
          },
          "metadata": {},
          "execution_count": 42
        }
      ]
    },
    {
      "cell_type": "markdown",
      "source": [
        "# Artificial Neural Network - Multi Layer Perceptron"
      ],
      "metadata": {
        "id": "8z0DSTT6fwFB"
      }
    },
    {
      "cell_type": "markdown",
      "source": [
        "## Regression Problem"
      ],
      "metadata": {
        "id": "pWprywBO8WUF"
      }
    },
    {
      "cell_type": "markdown",
      "source": [
        "### Self Implementation"
      ],
      "metadata": {
        "id": "mSApv8hR8flY"
      }
    },
    {
      "cell_type": "code",
      "source": [
        "import numpy as np\n",
        "import pandas as pd\n",
        "\n",
        "df = pd.DataFrame([[8,8,4],[7,9,5],[6,10,6],[5,12,7]], columns=['cgpa', 'profile_score', 'lpa'])"
      ],
      "metadata": {
        "id": "puccoNXCgct-"
      },
      "execution_count": 1,
      "outputs": []
    },
    {
      "cell_type": "code",
      "source": [
        "def initialize_parameters(layer_dims):\n",
        "\n",
        "  np.random.seed(3)\n",
        "  parameters = {}\n",
        "  L = len(layer_dims)\n",
        "\n",
        "  for l in range(1, L):\n",
        "\n",
        "    parameters['W' + str(l)] = np.ones((layer_dims[l-1], layer_dims[l]))*0.1\n",
        "    parameters['b' + str(l)] = np.zeros((layer_dims[l], 1))\n",
        "\n",
        "\n",
        "  return parameters"
      ],
      "metadata": {
        "id": "XFYEHVzEhQAc"
      },
      "execution_count": 2,
      "outputs": []
    },
    {
      "cell_type": "code",
      "source": [
        "def linear_forward(A_prev, W, b):\n",
        "\n",
        "  Z = np.dot(W.T, A_prev) + b\n",
        "\n",
        "  return Z"
      ],
      "metadata": {
        "id": "1YlXcxV_jJIH"
      },
      "execution_count": 3,
      "outputs": []
    },
    {
      "cell_type": "code",
      "source": [
        "# Forward Prop\n",
        "def L_layer_forward(X, parameters):\n",
        "\n",
        "  A = X\n",
        "  L = len(parameters) // 2                  # number of layers in the neural network\n",
        "\n",
        "  for l in range(1, L+1):\n",
        "    A_prev = A\n",
        "    Wl = parameters['W' + str(l)]\n",
        "    bl = parameters['b' + str(l)]\n",
        "    #print(\"A\"+str(l-1)+\": \", A_prev)\n",
        "    #print(\"W\"+str(l)+\": \", Wl)\n",
        "    #print(\"b\"+str(l)+\": \", bl)\n",
        "    #print(\"--\"*20)\n",
        "\n",
        "    A = linear_forward(A_prev, Wl, bl)\n",
        "    #print(\"A\"+str(l)+\": \", A)\n",
        "    #print(\"**\"*20)\n",
        "\n",
        "  return A,A_prev"
      ],
      "metadata": {
        "id": "Lk8kT_abkLRJ"
      },
      "execution_count": 4,
      "outputs": []
    },
    {
      "cell_type": "code",
      "source": [
        "X = df[['cgpa', 'profile_score']].values[0].reshape(2,1) # Shape(no of features, no. of training example)\n",
        "y = df[['lpa']].values[0][0]\n",
        "\n",
        "# Parameter initialization\n",
        "parameters = initialize_parameters([2,2,1])\n",
        "\n",
        "y_hat,A1 = L_layer_forward(X, parameters)"
      ],
      "metadata": {
        "id": "yB-qfAOClx16"
      },
      "execution_count": 5,
      "outputs": []
    },
    {
      "cell_type": "code",
      "source": [
        "def update_parameters(parameters,y,y_hat,A1,X):\n",
        "  parameters['W2'][0][0] = parameters['W2'][0][0] + (0.001 * 2 * (y - y_hat)*A1[0][0])\n",
        "  parameters['W2'][1][0] = parameters['W2'][1][0] + (0.001 * 2 * (y - y_hat)*A1[1][0])\n",
        "  parameters['b2'][0][0] = parameters['W2'][1][0] + (0.001 * 2 * (y - y_hat))\n",
        "\n",
        "  parameters['W1'][0][0] = parameters['W1'][0][0] + (0.001 * 2 * (y - y_hat)*parameters['W2'][0][0]*X[0][0])\n",
        "  parameters['W1'][0][1] = parameters['W1'][0][1] + (0.001 * 2 * (y - y_hat)*parameters['W2'][0][0]*X[1][0])\n",
        "  parameters['b1'][0][0] = parameters['b1'][0][0] + (0.001 * 2 * (y - y_hat)*parameters['W2'][0][0])\n",
        "\n",
        "  parameters['W1'][1][0] = parameters['W1'][1][0] + (0.001 * 2 * (y - y_hat)*parameters['W2'][1][0]*X[0][0])\n",
        "  parameters['W1'][1][1] = parameters['W1'][1][1] + (0.001 * 2 * (y - y_hat)*parameters['W2'][1][0]*X[1][0])\n",
        "  parameters['b1'][1][0] = parameters['b1'][1][0] + (0.001 * 2 * (y - y_hat)*parameters['W2'][1][0])"
      ],
      "metadata": {
        "id": "eyuxcZUCpTYT"
      },
      "execution_count": 6,
      "outputs": []
    },
    {
      "cell_type": "code",
      "source": [
        "X = df[['cgpa', 'profile_score']].values[0].reshape(2,1) # Shape(no of features, no. of training example)\n",
        "y = df[['lpa']].values[0][0]\n",
        "\n",
        "# Parameter initialization\n",
        "parameters = initialize_parameters([2,2,1])\n",
        "\n",
        "y_hat,A1 = L_layer_forward(X,parameters)\n",
        "y_hat = y_hat[0][0]\n",
        "\n",
        "update_parameters(parameters,y,y_hat,A1,X)\n",
        "\n",
        "parameters"
      ],
      "metadata": {
        "colab": {
          "base_uri": "https://localhost:8080/"
        },
        "id": "f5ASq1l0p9Te",
        "outputId": "a1875229-74b8-406d-8237-ba6decf89620"
      },
      "execution_count": 7,
      "outputs": [
        {
          "output_type": "execute_result",
          "data": {
            "text/plain": [
              "{'W1': array([[0.10658137, 0.10658137],\n",
              "        [0.10658137, 0.10658137]]),\n",
              " 'b1': array([[0.00082267],\n",
              "        [0.00082267]]),\n",
              " 'W2': array([[0.111776],\n",
              "        [0.111776]]),\n",
              " 'b2': array([[0.119136]])}"
            ]
          },
          "metadata": {},
          "execution_count": 7
        }
      ]
    },
    {
      "cell_type": "code",
      "source": [
        "X = df[['cgpa', 'profile_score']].values[1].reshape(2,1) # Shape(no of features, no. of training exaplme)\n",
        "y = df[['lpa']].values[1][0]\n",
        "\n",
        "y_hat,A1 = L_layer_forward(X,parameters)\n",
        "y_hat = y_hat[0][0]\n",
        "\n",
        "update_parameters(parameters,y,y_hat,A1,X)\n",
        "\n",
        "parameters"
      ],
      "metadata": {
        "colab": {
          "base_uri": "https://localhost:8080/"
        },
        "id": "03iZ_5RPsoP6",
        "outputId": "1ff212e3-c0ca-4d1e-e6f1-f54fa462e5fa"
      },
      "execution_count": 8,
      "outputs": [
        {
          "output_type": "execute_result",
          "data": {
            "text/plain": [
              "{'W1': array([[0.11458955, 0.1168776 ],\n",
              "        [0.11458955, 0.1168776 ]]),\n",
              " 'b1': array([[0.0019667],\n",
              "        [0.0019667]]),\n",
              " 'W2': array([[0.12712927],\n",
              "        [0.12712927]]),\n",
              " 'b2': array([[0.13612818]])}"
            ]
          },
          "metadata": {},
          "execution_count": 8
        }
      ]
    },
    {
      "cell_type": "code",
      "source": [
        "X = df[['cgpa', 'profile_score']].values[1].reshape(2,1) # Shape(no of features, no. of training exaplme)\n",
        "y = df[['lpa']].values[1][0]\n",
        "\n",
        "y_hat,A1 = L_layer_forward(X,parameters)\n",
        "y_hat = y_hat[0][0]\n",
        "\n",
        "update_parameters(parameters,y,y_hat,A1,X)\n",
        "\n",
        "parameters"
      ],
      "metadata": {
        "colab": {
          "base_uri": "https://localhost:8080/"
        },
        "id": "azfhElblsyvK",
        "outputId": "d227049b-b494-4639-9d4c-3d2cd6098978"
      },
      "execution_count": 9,
      "outputs": [
        {
          "output_type": "execute_result",
          "data": {
            "text/plain": [
              "{'W1': array([[0.12339902, 0.12820406],\n",
              "        [0.1234188 , 0.12822949]]),\n",
              " 'b1': array([[0.00322519],\n",
              "        [0.00322802]]),\n",
              " 'W2': array([[0.14325344],\n",
              "        [0.14357505]]),\n",
              " 'b2': array([[0.15236016]])}"
            ]
          },
          "metadata": {},
          "execution_count": 9
        }
      ]
    },
    {
      "cell_type": "code",
      "source": [
        "# Epochs Implementation\n",
        "\n",
        "epochs = 5\n",
        "\n",
        "for i in range(epochs) :\n",
        "  Loss = []\n",
        "\n",
        "  for j in range(0,df.shape[0]) :\n",
        "    X = df[['cgpa', 'profile_score']].values[j].reshape(2,1)\n",
        "    y = df[['lpa']].values[j][0]\n",
        "\n",
        "    y_hat, A1 = L_layer_forward(X, parameters)\n",
        "    y_hat = y_hat[0][0]\n",
        "\n",
        "    update_parameters(parameters, y, y_hat, A1, X)\n",
        "\n",
        "    Loss.append((y - y_hat) ** 2)\n",
        "\n",
        "  print(f'Epoch {i+1}, Loss: {np.array(Loss).mean()}')\n",
        "\n",
        "parameters"
      ],
      "metadata": {
        "colab": {
          "base_uri": "https://localhost:8080/"
        },
        "id": "YRXijaHaupnO",
        "outputId": "7516d8c8-7358-4a23-d914-2a33d544e997"
      },
      "execution_count": 10,
      "outputs": [
        {
          "output_type": "stream",
          "name": "stdout",
          "text": [
            "Epoch 1, Loss: 21.383289177305386\n",
            "Epoch 2, Loss: 12.958116108672751\n",
            "Epoch 3, Loss: 5.159657049548183\n",
            "Epoch 4, Loss: 1.7494571169076822\n",
            "Epoch 5, Loss: 1.1840276561262482\n"
          ]
        },
        {
          "output_type": "execute_result",
          "data": {
            "text/plain": [
              "{'W1': array([[0.27284977, 0.39389663],\n",
              "        [0.28284419, 0.41358259]]),\n",
              " 'b1': array([[0.02851407],\n",
              "        [0.03030976]]),\n",
              " 'W2': array([[0.4248769 ],\n",
              "        [0.48729066]]),\n",
              " 'b2': array([[0.49027646]])}"
            ]
          },
          "metadata": {},
          "execution_count": 10
        }
      ]
    },
    {
      "cell_type": "markdown",
      "source": [
        "### Keras Implementation\n"
      ],
      "metadata": {
        "id": "UhYplE6HwB7A"
      }
    },
    {
      "cell_type": "code",
      "source": [
        "import tensorflow\n",
        "from tensorflow import keras\n",
        "from keras import Sequential\n",
        "from keras import layers\n",
        "from keras.layers import Dense\n"
      ],
      "metadata": {
        "id": "X2R4MEDvwC8I"
      },
      "execution_count": 11,
      "outputs": []
    },
    {
      "cell_type": "code",
      "source": [
        "model = Sequential()\n",
        "\n",
        "model.add(Dense(2,activation = 'linear', input_dim = 2))\n",
        "model.add(Dense(1,activation = 'linear'))"
      ],
      "metadata": {
        "id": "nbQ0xzG7wPpK"
      },
      "execution_count": 12,
      "outputs": []
    },
    {
      "cell_type": "code",
      "source": [
        "model.summary()"
      ],
      "metadata": {
        "colab": {
          "base_uri": "https://localhost:8080/"
        },
        "id": "mVgYdoLlwff2",
        "outputId": "ce0c34eb-8df2-453d-d0b2-ee940d0f2e79"
      },
      "execution_count": 13,
      "outputs": [
        {
          "output_type": "stream",
          "name": "stdout",
          "text": [
            "Model: \"sequential\"\n",
            "_________________________________________________________________\n",
            " Layer (type)                Output Shape              Param #   \n",
            "=================================================================\n",
            " dense (Dense)               (None, 2)                 6         \n",
            "                                                                 \n",
            " dense_1 (Dense)             (None, 1)                 3         \n",
            "                                                                 \n",
            "=================================================================\n",
            "Total params: 9 (36.00 Byte)\n",
            "Trainable params: 9 (36.00 Byte)\n",
            "Non-trainable params: 0 (0.00 Byte)\n",
            "_________________________________________________________________\n"
          ]
        }
      ]
    },
    {
      "cell_type": "code",
      "source": [
        "model.get_weights()"
      ],
      "metadata": {
        "colab": {
          "base_uri": "https://localhost:8080/"
        },
        "id": "YkdpHbzKwhMS",
        "outputId": "b9f0a4e2-8bb5-4dd5-f393-0514f7997b1b"
      },
      "execution_count": 14,
      "outputs": [
        {
          "output_type": "execute_result",
          "data": {
            "text/plain": [
              "[array([[-1.0892391 ,  0.50229883],\n",
              "        [ 0.6355052 ,  0.39719677]], dtype=float32),\n",
              " array([0., 0.], dtype=float32),\n",
              " array([[-0.45439494],\n",
              "        [-0.89001125]], dtype=float32),\n",
              " array([0.], dtype=float32)]"
            ]
          },
          "metadata": {},
          "execution_count": 14
        }
      ]
    },
    {
      "cell_type": "code",
      "source": [
        "import numpy as np\n",
        "\n",
        "new_weights = [\n",
        "    np.array([[0.1, 0.1], [0.1, 0.1]], dtype=np.float32),\n",
        "    np.array([0.1, 0.1], dtype=np.float32),\n",
        "    np.array([[0.1], [0.1]], dtype=np.float32),\n",
        "    np.array([0.1], dtype=np.float32)\n",
        "]\n"
      ],
      "metadata": {
        "id": "5MzavXVdz50H"
      },
      "execution_count": 15,
      "outputs": []
    },
    {
      "cell_type": "code",
      "source": [
        "model.set_weights(new_weights)"
      ],
      "metadata": {
        "id": "v6l9UPxk8mv3"
      },
      "execution_count": 16,
      "outputs": []
    },
    {
      "cell_type": "code",
      "source": [
        "model.get_weights()"
      ],
      "metadata": {
        "colab": {
          "base_uri": "https://localhost:8080/"
        },
        "id": "y0yoIxNa8yN-",
        "outputId": "599cc920-96e4-464b-f677-d5940b56fe32"
      },
      "execution_count": 17,
      "outputs": [
        {
          "output_type": "execute_result",
          "data": {
            "text/plain": [
              "[array([[0.1, 0.1],\n",
              "        [0.1, 0.1]], dtype=float32),\n",
              " array([0.1, 0.1], dtype=float32),\n",
              " array([[0.1],\n",
              "        [0.1]], dtype=float32),\n",
              " array([0.1], dtype=float32)]"
            ]
          },
          "metadata": {},
          "execution_count": 17
        }
      ]
    },
    {
      "cell_type": "code",
      "source": [
        "optimizer = keras.optimizers.Adam(learning_rate=0.001)\n",
        "model.compile(loss = 'mean_squared_error', optimizer = optimizer)"
      ],
      "metadata": {
        "id": "NSyoYlpw89sC"
      },
      "execution_count": 18,
      "outputs": []
    },
    {
      "cell_type": "markdown",
      "source": [
        "## Classification Problem"
      ],
      "metadata": {
        "id": "OQok86KfuWrJ"
      }
    },
    {
      "cell_type": "markdown",
      "source": [
        "### Self Implementation"
      ],
      "metadata": {
        "id": "nYmCSNSz8no3"
      }
    },
    {
      "cell_type": "code",
      "source": [
        "import numpy as np\n",
        "import pandas as pd\n",
        "\n",
        "df = pd.DataFrame([[8,8,1],[7,9,1],[6,10,0],[5,5,0]], columns=['cgpa', 'profile_score', 'placed'])"
      ],
      "metadata": {
        "id": "9RDGApcLpun5"
      },
      "execution_count": 31,
      "outputs": []
    },
    {
      "cell_type": "code",
      "source": [
        "def parameters(layer_dims) :\n",
        "  np.random.seed(3)\n",
        "  parameters = {}\n",
        "  L = len(layer_dims)\n",
        "\n",
        "  for i in range(1, L) :\n",
        "    parameters['W'+str(i)] = np.ones((layer_dims[i-1], layer_dims[i])) * 0.1\n",
        "    parameters['b'+str(i)] = np.zeros((layer_dims[i], 1))\n",
        "\n",
        "  return parameters"
      ],
      "metadata": {
        "id": "9-23qKOhup3J"
      },
      "execution_count": 32,
      "outputs": []
    },
    {
      "cell_type": "code",
      "source": [
        "# Sigmoid Function\n",
        "def sigmoid(Z):\n",
        "  A = 1/(1+np.exp(-Z))\n",
        "  return A"
      ],
      "metadata": {
        "id": "cuOS7dXrv1t6"
      },
      "execution_count": 33,
      "outputs": []
    },
    {
      "cell_type": "code",
      "source": [
        "def linear_forward(A_prev, W, b) :\n",
        "  Z = np.dot(W.T, A_prev) + b\n",
        "  A = sigmoid(Z)\n",
        "\n",
        "  return A\n"
      ],
      "metadata": {
        "id": "GFcQZTKqwNc4"
      },
      "execution_count": 34,
      "outputs": []
    },
    {
      "cell_type": "code",
      "source": [
        "def L_layer_forward(X, parameters):\n",
        "\n",
        "  A = X\n",
        "  L = len(parameters) // 2                  # number of layers in the neural network\n",
        "\n",
        "  for l in range(1, L+1):\n",
        "    A_prev = A\n",
        "    Wl = parameters['W' + str(l)]\n",
        "    bl = parameters['b' + str(l)]\n",
        "    #print(\"A\"+str(l-1)+\": \", A_prev)\n",
        "    #print(\"W\"+str(l)+\": \", Wl)\n",
        "    #print(\"b\"+str(l)+\": \", bl)\n",
        "    #print(\"--\"*20)\n",
        "\n",
        "    A = linear_forward(A_prev, Wl, bl)\n",
        "    #print(\"A\"+str(l)+\": \", A)\n",
        "    #print(\"**\"*20)\n",
        "\n",
        "  return A,A_prev"
      ],
      "metadata": {
        "id": "OBg9NUuAwpDt"
      },
      "execution_count": 35,
      "outputs": []
    },
    {
      "cell_type": "code",
      "source": [
        "def update_parameters(parameters,y,y_hat,A1,X):\n",
        "  parameters['W2'][0][0] = parameters['W2'][0][0] + (0.0001 * (y - y_hat)*A1[0][0])\n",
        "  parameters['W2'][1][0] = parameters['W2'][1][0] + (0.0001 * (y - y_hat)*A1[1][0])\n",
        "  parameters['b2'][0][0] = parameters['W2'][1][0] + (0.0001 * (y - y_hat))\n",
        "\n",
        "  parameters['W1'][0][0] = parameters['W1'][0][0] + (0.0001 * (y - y_hat)*parameters['W2'][0][0]*A1[0][0]*(1-A1[0][0])*X[0][0])\n",
        "  parameters['W1'][0][1] = parameters['W1'][0][1] + (0.0001 * (y - y_hat)*parameters['W2'][0][0]*A1[0][0]*(1-A1[0][0])*X[1][0])\n",
        "  parameters['b1'][0][0] = parameters['b1'][0][0] + (0.0001 * (y - y_hat)*parameters['W2'][0][0]*A1[0][0]*(1-A1[0][0]))\n",
        "\n",
        "  parameters['W1'][1][0] = parameters['W1'][1][0] + (0.0001 * (y - y_hat)*parameters['W2'][1][0]*A1[1][0]*(1-A1[1][0])*X[0][0])\n",
        "  parameters['W1'][1][1] = parameters['W1'][1][1] + (0.0001 * (y - y_hat)*parameters['W2'][1][0]*A1[1][0]*(1-A1[1][0])*X[1][0])\n",
        "  parameters['b1'][1][0] = parameters['b1'][1][0] + (0.0001 * (y - y_hat)*parameters['W2'][1][0]*A1[1][0]*(1-A1[1][0]))"
      ],
      "metadata": {
        "id": "fbUVVgbbxMSj"
      },
      "execution_count": 36,
      "outputs": []
    },
    {
      "cell_type": "code",
      "source": [
        "X = df[['cgpa', 'profile_score']].values[0].reshape(2,1)\n",
        "y = df[['placed']].values[0][0]\n",
        "\n",
        "parameters = initialize_parameters([2,2,1])\n",
        "\n",
        "y_hat,A1 = L_layer_forward(X,parameters)\n",
        "y_hat = y_hat[0][0]\n",
        "\n",
        "update_parameters(parameters,y,y_hat,A1,X)\n",
        "\n",
        "print('Loss for this student - ',-y*np.log(y_hat) - (1-y)*np.log(1-y_hat))\n",
        "\n",
        "parameters"
      ],
      "metadata": {
        "colab": {
          "base_uri": "https://localhost:8080/"
        },
        "id": "D6EQAh4j0Kc-",
        "outputId": "9fbff891-7484-4f31-e02f-a522fba5639b"
      },
      "execution_count": 37,
      "outputs": [
        {
          "output_type": "stream",
          "name": "stdout",
          "text": [
            "Loss for this student -  0.613402628898913\n"
          ]
        },
        {
          "output_type": "execute_result",
          "data": {
            "text/plain": [
              "{'W1': array([[0.10000513, 0.10000513],\n",
              "        [0.10000513, 0.10000513]]),\n",
              " 'b1': array([[6.41054186e-07],\n",
              "        [6.41054186e-07]]),\n",
              " 'W2': array([[0.10003815],\n",
              "        [0.10003815]]),\n",
              " 'b2': array([[0.100084]])}"
            ]
          },
          "metadata": {},
          "execution_count": 37
        }
      ]
    },
    {
      "cell_type": "code",
      "source": [
        "# Epochs Implementation\n",
        "parameters  = initialize_parameters([2,2,1])\n",
        "epoch = 50\n",
        "\n",
        "for i in range(1,epoch) :\n",
        "  Loss =[]\n",
        "\n",
        "  for j in range(0, df.shape[0]) :\n",
        "    X = df[['cgpa', 'profile_score']].values[j].reshape(2,1)\n",
        "    y = df[['placed']].values[j][0]\n",
        "\n",
        "    y_hat, A1 = L_layer_forward(X, parameters)\n",
        "    y_hat = y_hat[0][0]\n",
        "\n",
        "    update_parameters(parameters, y, y_hat,A1,X)\n",
        "\n",
        "    Loss.append(-y*np.log(y_hat) - (1-y)*np.log(1-y_hat))\n",
        "\n",
        "  print('Epoch - ',i+1,'Loss - ',np.array(Loss).mean())\n",
        "\n",
        "parameters"
      ],
      "metadata": {
        "colab": {
          "base_uri": "https://localhost:8080/"
        },
        "id": "koXgr6uD0rDL",
        "outputId": "635cacc7-2b8c-4030-9c1e-fe9fc0da7800"
      },
      "execution_count": 39,
      "outputs": [
        {
          "output_type": "stream",
          "name": "stdout",
          "text": [
            "Epoch -  2 Loss -  0.7103199085929446\n",
            "Epoch -  3 Loss -  0.6991702892802629\n",
            "Epoch -  4 Loss -  0.6991679314811485\n",
            "Epoch -  5 Loss -  0.6991655746710999\n",
            "Epoch -  6 Loss -  0.6991632188496667\n",
            "Epoch -  7 Loss -  0.699160864016399\n",
            "Epoch -  8 Loss -  0.6991585101708473\n",
            "Epoch -  9 Loss -  0.6991561573125619\n",
            "Epoch -  10 Loss -  0.6991538054410936\n",
            "Epoch -  11 Loss -  0.6991514545559935\n",
            "Epoch -  12 Loss -  0.6991491046568126\n",
            "Epoch -  13 Loss -  0.6991467557431024\n",
            "Epoch -  14 Loss -  0.6991444078144144\n",
            "Epoch -  15 Loss -  0.6991420608703007\n",
            "Epoch -  16 Loss -  0.6991397149103132\n",
            "Epoch -  17 Loss -  0.6991373699340042\n",
            "Epoch -  18 Loss -  0.6991350259409265\n",
            "Epoch -  19 Loss -  0.6991326829306324\n",
            "Epoch -  20 Loss -  0.6991303409026751\n",
            "Epoch -  21 Loss -  0.699127999856608\n",
            "Epoch -  22 Loss -  0.6991256597919842\n",
            "Epoch -  23 Loss -  0.6991233207083575\n",
            "Epoch -  24 Loss -  0.6991209826052818\n",
            "Epoch -  25 Loss -  0.699118645482311\n",
            "Epoch -  26 Loss -  0.6991163093389996\n",
            "Epoch -  27 Loss -  0.699113974174902\n",
            "Epoch -  28 Loss -  0.6991116399895729\n",
            "Epoch -  29 Loss -  0.6991093067825676\n",
            "Epoch -  30 Loss -  0.699106974553441\n",
            "Epoch -  31 Loss -  0.6991046433017485\n",
            "Epoch -  32 Loss -  0.6991023130270458\n",
            "Epoch -  33 Loss -  0.699099983728889\n",
            "Epoch -  34 Loss -  0.6990976554068338\n",
            "Epoch -  35 Loss -  0.6990953280604367\n",
            "Epoch -  36 Loss -  0.6990930016892543\n",
            "Epoch -  37 Loss -  0.6990906762928432\n",
            "Epoch -  38 Loss -  0.6990883518707602\n",
            "Epoch -  39 Loss -  0.6990860284225631\n",
            "Epoch -  40 Loss -  0.6990837059478086\n",
            "Epoch -  41 Loss -  0.6990813844460546\n",
            "Epoch -  42 Loss -  0.699079063916859\n",
            "Epoch -  43 Loss -  0.6990767443597797\n",
            "Epoch -  44 Loss -  0.6990744257743753\n",
            "Epoch -  45 Loss -  0.699072108160204\n",
            "Epoch -  46 Loss -  0.6990697915168249\n",
            "Epoch -  47 Loss -  0.6990674758437966\n",
            "Epoch -  48 Loss -  0.6990651611406782\n",
            "Epoch -  49 Loss -  0.6990628474070294\n",
            "Epoch -  50 Loss -  0.6990605346424095\n"
          ]
        },
        {
          "output_type": "execute_result",
          "data": {
            "text/plain": [
              "{'W1': array([[0.09994381, 0.09984855],\n",
              "        [0.09994386, 0.09984856]]),\n",
              " 'b1': array([[-3.31672494e-05],\n",
              "        [-3.31686159e-05]]),\n",
              " 'W2': array([[0.09922385],\n",
              "        [0.09922395]]),\n",
              " 'b2': array([[0.09916788]])}"
            ]
          },
          "metadata": {},
          "execution_count": 39
        }
      ]
    },
    {
      "cell_type": "markdown",
      "source": [
        "### Keras Implementation"
      ],
      "metadata": {
        "id": "bKNVq5Eu20bF"
      }
    },
    {
      "cell_type": "code",
      "source": [
        "import tensorflow\n",
        "from tensorflow import keras\n",
        "from keras import Sequential\n",
        "from keras import layers\n",
        "from keras.layers import Dense"
      ],
      "metadata": {
        "id": "AwIN89w921xN"
      },
      "execution_count": 41,
      "outputs": []
    },
    {
      "cell_type": "code",
      "source": [
        "model = Sequential()\n",
        "model.add(Dense(2, activation = 'sigmoid', input_dim = 2))\n",
        "model.add(Dense(1, activation = 'sigmoid'))"
      ],
      "metadata": {
        "id": "JtSohZlL2zEN"
      },
      "execution_count": 43,
      "outputs": []
    },
    {
      "cell_type": "code",
      "source": [
        "model.summary()"
      ],
      "metadata": {
        "colab": {
          "base_uri": "https://localhost:8080/"
        },
        "id": "Spy-k35y3amr",
        "outputId": "c572d3d1-54b4-466a-8a60-cc08446fde75"
      },
      "execution_count": 44,
      "outputs": [
        {
          "output_type": "stream",
          "name": "stdout",
          "text": [
            "Model: \"sequential_2\"\n",
            "_________________________________________________________________\n",
            " Layer (type)                Output Shape              Param #   \n",
            "=================================================================\n",
            " dense_2 (Dense)             (None, 2)                 6         \n",
            "                                                                 \n",
            " dense_3 (Dense)             (None, 1)                 3         \n",
            "                                                                 \n",
            "=================================================================\n",
            "Total params: 9 (36.00 Byte)\n",
            "Trainable params: 9 (36.00 Byte)\n",
            "Non-trainable params: 0 (0.00 Byte)\n",
            "_________________________________________________________________\n"
          ]
        }
      ]
    },
    {
      "cell_type": "code",
      "source": [
        "model.get_weights()"
      ],
      "metadata": {
        "colab": {
          "base_uri": "https://localhost:8080/"
        },
        "id": "pUWuSr2c3iV0",
        "outputId": "2a0ec13d-4097-4975-ad19-5b075691fb5c"
      },
      "execution_count": 45,
      "outputs": [
        {
          "output_type": "execute_result",
          "data": {
            "text/plain": [
              "[array([[-0.80122995,  1.1926585 ],\n",
              "        [ 1.0696248 ,  0.7838677 ]], dtype=float32),\n",
              " array([0., 0.], dtype=float32),\n",
              " array([[0.14072359],\n",
              "        [1.3837444 ]], dtype=float32),\n",
              " array([0.], dtype=float32)]"
            ]
          },
          "metadata": {},
          "execution_count": 45
        }
      ]
    },
    {
      "cell_type": "code",
      "source": [
        "new_weights = [\n",
        "    np.array([[0.1, 0.1], [0.1, 0.1]], dtype=np.float32),\n",
        "    np.array([0.1, 0.1], dtype=np.float32),\n",
        "    np.array([[0.1], [0.1]], dtype=np.float32),\n",
        "    np.array([0.1], dtype=np.float32)\n",
        "]"
      ],
      "metadata": {
        "id": "YjAA9KEq3rZe"
      },
      "execution_count": 46,
      "outputs": []
    },
    {
      "cell_type": "code",
      "source": [
        "model.set_weights(new_weights)"
      ],
      "metadata": {
        "id": "iXpdCI6g3uSt"
      },
      "execution_count": 47,
      "outputs": []
    },
    {
      "cell_type": "code",
      "source": [
        "optimizer = keras.optimizers.Adam(learning_rate = 0.001)\n",
        "model.compile(loss='binary_crossentropy', optimizer=optimizer)"
      ],
      "metadata": {
        "id": "So9SkA383vVI"
      },
      "execution_count": 49,
      "outputs": []
    },
    {
      "cell_type": "code",
      "source": [
        "model.fit(df.iloc[:, 0:-1].values, df['placed'].values, epochs=50)"
      ],
      "metadata": {
        "colab": {
          "base_uri": "https://localhost:8080/"
        },
        "id": "BeLyN_V94COd",
        "outputId": "43bf572b-fbac-40c0-da25-fe314597e24c"
      },
      "execution_count": 51,
      "outputs": [
        {
          "output_type": "stream",
          "name": "stdout",
          "text": [
            "Epoch 1/50\n",
            "1/1 [==============================] - 1s 756ms/step - loss: 0.6963\n",
            "Epoch 2/50\n",
            "1/1 [==============================] - 0s 14ms/step - loss: 0.6963\n",
            "Epoch 3/50\n",
            "1/1 [==============================] - 0s 18ms/step - loss: 0.6963\n",
            "Epoch 4/50\n",
            "1/1 [==============================] - 0s 15ms/step - loss: 0.6963\n",
            "Epoch 5/50\n",
            "1/1 [==============================] - 0s 17ms/step - loss: 0.6963\n",
            "Epoch 6/50\n",
            "1/1 [==============================] - 0s 13ms/step - loss: 0.6963\n",
            "Epoch 7/50\n",
            "1/1 [==============================] - 0s 13ms/step - loss: 0.6963\n",
            "Epoch 8/50\n",
            "1/1 [==============================] - 0s 12ms/step - loss: 0.6963\n",
            "Epoch 9/50\n",
            "1/1 [==============================] - 0s 13ms/step - loss: 0.6962\n",
            "Epoch 10/50\n",
            "1/1 [==============================] - 0s 13ms/step - loss: 0.6962\n",
            "Epoch 11/50\n",
            "1/1 [==============================] - 0s 18ms/step - loss: 0.6962\n",
            "Epoch 12/50\n",
            "1/1 [==============================] - 0s 18ms/step - loss: 0.6962\n",
            "Epoch 13/50\n",
            "1/1 [==============================] - 0s 14ms/step - loss: 0.6962\n",
            "Epoch 14/50\n",
            "1/1 [==============================] - 0s 13ms/step - loss: 0.6962\n",
            "Epoch 15/50\n",
            "1/1 [==============================] - 0s 13ms/step - loss: 0.6962\n",
            "Epoch 16/50\n",
            "1/1 [==============================] - 0s 21ms/step - loss: 0.6962\n",
            "Epoch 17/50\n",
            "1/1 [==============================] - 0s 9ms/step - loss: 0.6962\n",
            "Epoch 18/50\n",
            "1/1 [==============================] - 0s 11ms/step - loss: 0.6962\n",
            "Epoch 19/50\n",
            "1/1 [==============================] - 0s 10ms/step - loss: 0.6961\n",
            "Epoch 20/50\n",
            "1/1 [==============================] - 0s 10ms/step - loss: 0.6961\n",
            "Epoch 21/50\n",
            "1/1 [==============================] - 0s 11ms/step - loss: 0.6961\n",
            "Epoch 22/50\n",
            "1/1 [==============================] - 0s 9ms/step - loss: 0.6961\n",
            "Epoch 23/50\n",
            "1/1 [==============================] - 0s 10ms/step - loss: 0.6961\n",
            "Epoch 24/50\n",
            "1/1 [==============================] - 0s 17ms/step - loss: 0.6961\n",
            "Epoch 25/50\n",
            "1/1 [==============================] - 0s 15ms/step - loss: 0.6961\n",
            "Epoch 26/50\n",
            "1/1 [==============================] - 0s 16ms/step - loss: 0.6961\n",
            "Epoch 27/50\n",
            "1/1 [==============================] - 0s 13ms/step - loss: 0.6961\n",
            "Epoch 28/50\n",
            "1/1 [==============================] - 0s 15ms/step - loss: 0.6960\n",
            "Epoch 29/50\n",
            "1/1 [==============================] - 0s 20ms/step - loss: 0.6960\n",
            "Epoch 30/50\n",
            "1/1 [==============================] - 0s 20ms/step - loss: 0.6960\n",
            "Epoch 31/50\n",
            "1/1 [==============================] - 0s 16ms/step - loss: 0.6960\n",
            "Epoch 32/50\n",
            "1/1 [==============================] - 0s 20ms/step - loss: 0.6960\n",
            "Epoch 33/50\n",
            "1/1 [==============================] - 0s 20ms/step - loss: 0.6960\n",
            "Epoch 34/50\n",
            "1/1 [==============================] - 0s 18ms/step - loss: 0.6960\n",
            "Epoch 35/50\n",
            "1/1 [==============================] - 0s 28ms/step - loss: 0.6960\n",
            "Epoch 36/50\n",
            "1/1 [==============================] - 0s 19ms/step - loss: 0.6960\n",
            "Epoch 37/50\n",
            "1/1 [==============================] - 0s 19ms/step - loss: 0.6960\n",
            "Epoch 38/50\n",
            "1/1 [==============================] - 0s 24ms/step - loss: 0.6959\n",
            "Epoch 39/50\n",
            "1/1 [==============================] - 0s 20ms/step - loss: 0.6959\n",
            "Epoch 40/50\n",
            "1/1 [==============================] - 0s 18ms/step - loss: 0.6959\n",
            "Epoch 41/50\n",
            "1/1 [==============================] - 0s 19ms/step - loss: 0.6959\n",
            "Epoch 42/50\n",
            "1/1 [==============================] - 0s 21ms/step - loss: 0.6959\n",
            "Epoch 43/50\n",
            "1/1 [==============================] - 0s 17ms/step - loss: 0.6959\n",
            "Epoch 44/50\n",
            "1/1 [==============================] - 0s 17ms/step - loss: 0.6959\n",
            "Epoch 45/50\n",
            "1/1 [==============================] - 0s 17ms/step - loss: 0.6959\n",
            "Epoch 46/50\n",
            "1/1 [==============================] - 0s 17ms/step - loss: 0.6959\n",
            "Epoch 47/50\n",
            "1/1 [==============================] - 0s 17ms/step - loss: 0.6959\n",
            "Epoch 48/50\n",
            "1/1 [==============================] - 0s 19ms/step - loss: 0.6959\n",
            "Epoch 49/50\n",
            "1/1 [==============================] - 0s 18ms/step - loss: 0.6958\n",
            "Epoch 50/50\n",
            "1/1 [==============================] - 0s 26ms/step - loss: 0.6958\n"
          ]
        },
        {
          "output_type": "execute_result",
          "data": {
            "text/plain": [
              "<keras.src.callbacks.History at 0x791f4006b1f0>"
            ]
          },
          "metadata": {},
          "execution_count": 51
        }
      ]
    }
  ]
}