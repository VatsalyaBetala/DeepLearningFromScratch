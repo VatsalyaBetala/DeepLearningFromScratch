{
  "cells": [
    {
      "cell_type": "markdown",
      "metadata": {},
      "source": [
        "# Convolutional Neural Networks with Padding, Strides, and Pooling"
      ]
    },
    {
      "cell_type": "markdown",
      "metadata": {},
      "source": [
        "## Importing Libraries"
      ]
    },
    {
      "cell_type": "code",
      "execution_count": 1,
      "metadata": {},
      "outputs": [],
      "source": [
        "import tensorflow as tf\n",
        "from tensorflow import keras\n",
        "from keras.layers import Dense, Conv2D, Flatten\n",
        "from keras.models import Sequential\n",
        "from keras.datasets import mnist"
      ]
    },
    {
      "cell_type": "markdown",
      "metadata": {},
      "source": [
        "## Building the first CNN model with 'valid' padding"
      ]
    },
    {
      "cell_type": "code",
      "execution_count": 2,
      "metadata": {},
      "outputs": [],
      "source": [
        "model = Sequential()\n",
        "model.add(Conv2D(32, kernel_size=(3,3), padding='valid', activation='relu', input_shape=(28,28,1)))\n",
        "model.add(Conv2D(32, kernel_size=(3,3), padding='valid', activation='relu'))\n",
        "model.add(Conv2D(32, kernel_size=(3,3), padding='valid', activation='relu'))\n",
        "\n",
        "model.add(Flatten())  # Flattening the 2D arrays into a 1D vector\n",
        "\n",
        "model.add(Dense(128, activation='relu'))  # Adding a dense (fully connected) layer with 128 units\n",
        "model.add(Dense(10, activation='softmax'))  # Output layer with 10 units for 10 classes, using softmax activation\n",
        "\n",
        "model.summary()  # Print the summary of the model"
      ]
    },
    {
      "cell_type": "markdown",
      "metadata": {},
      "source": [
        "## Building the second CNN model with 'same' padding"
      ]
    },
    {
      "cell_type": "code",
      "execution_count": 3,
      "metadata": {},
      "outputs": [],
      "source": [
        "model = Sequential()\n",
        "model.add(Conv2D(32, kernel_size=(3,3), padding='same', activation='relu', input_shape=(28,28,1)))\n",
        "model.add(Conv2D(32, kernel_size=(3,3), padding='same', activation='relu'))\n",
        "model.add(Conv2D(32, kernel_size=(3,3), padding='same', activation='relu'))\n",
        "\n",
        "model.add(Flatten())  # Flattening the 2D arrays into a 1D vector\n",
        "\n",
        "model.add(Dense(128, activation='relu'))  # Adding a dense (fully connected) layer with 128 units\n",
        "model.add(Dense(10, activation='softmax'))  # Output layer with 10 units for 10 classes, using softmax activation\n",
        "\n",
        "model.summary()  # Print the summary of the model"
      ]
    },
    {
      "cell_type": "markdown",
      "metadata": {},
      "source": [
        "## Building the third CNN model with 'same' padding and strides"
      ]
    },
    {
      "cell_type": "code",
      "execution_count": 4,
      "metadata": {},
      "outputs": [],
      "source": [
        "model = Sequential()\n",
        "model.add(Conv2D(32, kernel_size=(3,3), padding='same', strides=(2,2), activation='relu', input_shape=(28,28,1)))\n",
        "model.add(Conv2D(32, kernel_size=(3,3), padding='same', strides=(2,2), activation='relu'))\n",
        "model.add(Conv2D(32, kernel_size=(3,3), padding='same', strides=(2,2), activation='relu'))\n",
        "\n",
        "model.add(Flatten())  # Flattening the 2D arrays into a 1D vector\n",
        "\n",
        "model.add(Dense(128, activation='relu'))  # Adding a dense (fully connected) layer with 128 units\n",
        "model.add(Dense(10, activation='softmax'))  # Output layer with 10 units for 10 classes, using softmax activation\n",
        "\n",
        "model.summary()  # Print the summary of the model"
      ]
    },
    {
      "cell_type": "markdown",
      "metadata": {},
      "source": [
        "## Building the fourth CNN model with MaxPooling layers"
      ]
    },
    {
      "cell_type": "code",
      "execution_count": 5,
      "metadata": {},
      "outputs": [],
      "source": [
        "model = Sequential()\n",
        "model.add(Conv2D(32, kernel_size=(3,3), padding='valid', activation='relu', input_shape=(28,28,1)))\n",
        "model.add(MaxPooling2D(pool_size=(2,2), strides=2, padding='valid'))  # Adding a MaxPooling layer\n",
        "model.add(Conv2D(32, kernel_size=(3,3), padding='valid', activation='relu'))\n",
        "model.add(MaxPooling2D(pool_size=(2,2), strides=2, padding='valid'))  # Adding another MaxPooling layer\n",
        "\n",
        "model.add(Flatten())  # Flattening the 2D arrays into a 1D vector\n",
        "\n",
        "model.add(Dense(128, activation='relu'))  # Adding a dense (fully connected) layer with 128 units\n",
        "model.add(Dense(10, activation='softmax'))  # Output layer with 10 units for 10 classes, using softmax activation\n",
        "\n",
        "model.summary()  # Print the summary of the model"
      ]
    },
    {
      "cell_type": "markdown",
      "metadata": {},
      "source": [
        "## Building and training the LeNet-5 model on the MNIST dataset"
      ]
    },
    {
      "cell_type": "code",
      "execution_count": 6,
      "metadata": {},
      "outputs": [],
      "source": [
        "import numpy as np\n",
        "from keras.datasets import mnist\n",
        "from keras.models import Sequential\n",
        "from keras.layers import Conv2D, AveragePooling2D, Flatten, Dense\n",
        "from keras.utils import to_categorical\n",
        "\n",
        "# Load the MNIST dataset\n",
        "(x_train, y_train), (x_test, y_test) = mnist.load_data()\n",
        "\n",
        "# Preprocess the data by padding and normalizing\n",
        "x_train = np.pad(x_train, ((0,0), (2,2), (2,2)), 'constant')\n",
        "x_test = np.pad(x_test, ((0,0), (2,2), (2,2)), 'constant')\n",
        "\n",
        "x_train = x_train.reshape(-1, 32, 32, 1).astype('float32') / 255.0\n",
        "x_test = x_test.reshape(-1, 32, 32, 1).astype('float32') / 255.0\n",
        "\n",
        "# One-hot encode the labels\n",
        "y_train = to_categorical(y_train, 10)\n",
        "y_test = to_categorical(y_test, 10)\n",
        "\n",
        "# Build the LeNet-5 model\n",
        "model = Sequential()\n",
        "model.add(Conv2D(6, kernel_size=(5,5), padding='valid', activation='tanh', input_shape=(32,32,1)))\n",
        "model.add(AveragePooling2D(pool_size=(2,2), strides=2, padding='valid'))  # Adding an AveragePooling layer\n",
        "model.add(Conv2D(6, kernel_size=(5,5), padding='valid', activation='tanh'))\n",
        "model.add(AveragePooling2D(pool_size=(2,2), strides=2, padding='valid'))  # Adding another AveragePooling layer\n",
        "model.add(Flatten())  # Flattening the 2D arrays into a 1D vector\n",
        "model.add(Dense(120, activation='tanh'))  # Adding a dense layer with 120 units\n",
        "model.add(Dense(84, activation='tanh'))  # Adding a dense layer with 84 units\n",
        "model.add(Dense(10, activation='softmax'))  # Output layer with 10 units for 10 classes, using softmax activation\n",
        "\n",
        "# Compile the model\n",
        "model.compile(optimizer='adam', loss='categorical_crossentropy', metrics=['accuracy'])\n",
        "\n",
        "# Train the model\n",
        "model.fit(x_train, y_train, epochs=10, batch_size=32, validation_split=0.1)\n",
        "\n",
        "# Evaluate the model on the test set\n",
        "test_loss, test_acc = model.evaluate(x_test, y_test)\n",
        "print(f'Test accuracy: {test_acc}')"
      ]
    },
    {
      "cell_type": "markdown",
      "metadata": {},
      "source": [
        "## Visualizing a random prediction"
      ]
    },
    {
      "cell_type": "code",
      "execution_count": 7,
      "metadata": {},
      "outputs": [],
      "source": [
        "import numpy as np\n",
        "import matplotlib.pyplot as plt\n",
        "\n",
        "# Get a random entry from the test data\n",
        "random_index = np.random.randint(0, x_test.shape[0])\n",
        "random_image = x_test[random_index]\n",
        "random_label = y_test[random_index]\n",
        "\n",
        "# Predict the class\n",
        "prediction = model.predict(random_image.reshape(1, 32, 32, 1))\n",
        "predicted_class = np.argmax(prediction)\n",
        "\n",
        "# Display the image and prediction\n",
        "plt.imshow(random_image.reshape(32, 32), cmap='gray')\n",
        "plt.title(f'Predicted: {predicted_class}, Actual: {np.argmax(random_label)}')\n",
        "plt.axis('off')\n",
        "plt.show()"
      ]
    }
  ],
  "metadata": {
    "colab": {
      "name": "Vatsalya_CNN_Padding_Strides_Pooling.ipynb",
      "provenance": [],
      "collapsed_sections": [],
      "toc_visible": true,
      "authorship_tag": "ABX9TyOMFSh9WZOBFZVIBR8OJeWw"
    },
    "kernelspec": {
      "display_name": "Python 3",
      "name": "python3"
    },
    "language_info": {
      "name": "python"
    }
  },
  "nbformat": 4,
  "nbformat_minor": 0
}
